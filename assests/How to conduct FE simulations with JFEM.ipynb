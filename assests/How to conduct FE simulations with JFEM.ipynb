{
 "cells": [
  {
   "cell_type": "markdown",
   "metadata": {},
   "source": [
    "# How to conduct FE simulations with JFEM?\n",
    "\n",
    "*See \"field\" and \"element\" documents in advance.*\n",
    "\n",
    "## 1. Simple seepage problem\n",
    "\n",
    "### Define condition of simulation"
   ]
  },
  {
   "cell_type": "code",
   "execution_count": 1,
   "metadata": {
    "collapsed": false
   },
   "outputs": [],
   "source": [
    "using JFEM\n",
    "\n",
    "elt1 = Quad4([1,2,3,4])\n",
    "elt2 = Quad4([2,5,6,3])\n",
    "elt1[\"geometry\"] = Field([[0.0,0.0], [1.0,0.0], [1.0,1.0], [0.0,1.0]])\n",
    "elt2[\"geometry\"] = Field([[1.0,0.0], [2.0,0.0], [2.0,1.0], [1.0,1.0]])\n",
    "elements = [elt1, elt2]\n",
    "\n",
    "for elt in elements\n",
    "    elt[\"water head\"] = Field([0.0, 0.0, 0.0, 0.0]) # set initial water head\n",
    "    elt[\"water conductivity\"] = ConstantField(1e-2)\n",
    "end"
   ]
  },
  {
   "cell_type": "markdown",
   "metadata": {},
   "source": [
    "FE mesh:"
   ]
  },
  {
   "cell_type": "code",
   "execution_count": 2,
   "metadata": {
    "collapsed": false
   },
   "outputs": [
    {
     "data": {
      "image/png": "[encoded data removed]",
      "text/plain": [
       "PyPlot.Figure(PyObject <matplotlib.figure.Figure object at 0x317a2bd10>)"
      ]
     },
     "metadata": {},
     "output_type": "display_data"
    }
   ],
   "source": [
    "using PyPlot\n",
    "\n",
    "function plot_mesh(elements; time=:end, color=\"0\")\n",
    "    axis(\"off\")\n",
    "    axis(\"equal\")\n",
    "    for elt in elements\n",
    "        geometry = elt[\"geometry\"][time]\n",
    "        for i in 1:length(geometry)-1\n",
    "            pt1 = geometry[i]\n",
    "            pt2 = geometry[i+1]\n",
    "            plot([pt1[1],pt2[1]], [pt1[2],pt2[2]], color=color, linewidth=0.4, marker=\"o\", markersize=2, clip_on=false)\n",
    "        end\n",
    "        pt1 = geometry[1]\n",
    "        pt2 = geometry[end]\n",
    "        plot([pt1[1],pt2[1]], [pt1[2],pt2[2]], color=color, linewidth=0.4, marker=\"o\", markersize=2, clip_on=false)\n",
    "    end\n",
    "    tight_layout()\n",
    "end\n",
    "figure(figsize=(2,1))\n",
    "plot_mesh(elements)"
   ]
  },
  {
   "cell_type": "markdown",
   "metadata": {},
   "source": [
    "### How to create an element matrix?"
   ]
  },
  {
   "cell_type": "code",
   "execution_count": 3,
   "metadata": {
    "collapsed": false
   },
   "outputs": [
    {
     "data": {
      "text/plain": [
       "4×4 Array{Float64,2}:\n",
       " -0.00666667   0.00166667   0.00333333   0.00166667\n",
       "  0.00166667  -0.00666667   0.00166667   0.00333333\n",
       "  0.00333333   0.00166667  -0.00666667   0.00166667\n",
       "  0.00166667   0.00333333   0.00166667  -0.00666667"
      ]
     },
     "execution_count": 3,
     "metadata": {},
     "output_type": "execute_result"
    }
   ],
   "source": [
    "function create_matrix(element)\n",
    "    num_nodes = length(element)\n",
    "    K = zeros(num_nodes, num_nodes)\n",
    "    for gp in get_gauss_points(element)\n",
    "        w = gp.weight * element(Val{:detJ}, gp)\n",
    "        B = element(Val{:GRAD}, gp)\n",
    "        k = element(\"water conductivity\", gp)\n",
    "        K += -w * B' * k * B\n",
    "    end\n",
    "    return K\n",
    "end\n",
    "create_matrix(elt1)"
   ]
  },
  {
   "cell_type": "markdown",
   "metadata": {},
   "source": [
    "### How to create a global matrix?"
   ]
  },
  {
   "cell_type": "code",
   "execution_count": 4,
   "metadata": {
    "collapsed": false
   },
   "outputs": [],
   "source": [
    "num_nodes = 6\n",
    "global_matrix = zeros(num_nodes, num_nodes)\n",
    "for elt in elements\n",
    "    dofs = get_dofs(elt, 1)\n",
    "    global_matrix[dofs,dofs] += create_matrix(elt)\n",
    "end"
   ]
  },
  {
   "cell_type": "markdown",
   "metadata": {},
   "source": [
    "### What is the `get_dofs` function?\n",
    "\n",
    "Consider global unknown vector as\n",
    "$$\n",
    "[u_{1x},u_{1y},u_{2x},u_{2y},u_{3x},u_{3y},u_{4x},u_{4y},u_{5x},u_{5y},u_{6x},u_{6y}]^T\n",
    "$$\n",
    "To get vector indices of specific nodes,"
   ]
  },
  {
   "cell_type": "code",
   "execution_count": 5,
   "metadata": {
    "collapsed": false
   },
   "outputs": [
    {
     "name": "stdout",
     "output_type": "stream",
     "text": [
      "get_dofs([2,5,6,3],2) = [3,4,9,10,11,12,5,6]\n",
      "get_dofs([2,5,6,3],2,1) = [3,9,11,5]\n",
      "get_dofs([2,5,6,3],2,2) = [4,10,12,6]\n",
      "get_dofs([2,5,6,3],1) = [2,5,6,3]\n",
      "get_dofs(elt2,1) = [2,5,6,3]\n"
     ]
    },
    {
     "data": {
      "text/plain": [
       "4-element Array{Int64,1}:\n",
       " 2\n",
       " 5\n",
       " 6\n",
       " 3"
      ]
     },
     "execution_count": 5,
     "metadata": {},
     "output_type": "execute_result"
    }
   ],
   "source": [
    "@show get_dofs([2,5,6,3], 2)    # get_dofs(node_numbers, variable_dimension)\n",
    "@show get_dofs([2,5,6,3], 2, 1) # for x\n",
    "@show get_dofs([2,5,6,3], 2, 2) # for y\n",
    "\n",
    "# for seepage problem\n",
    "@show get_dofs([2,5,6,3], 1)\n",
    "@show get_dofs(elt2, 1) # get_dofs(get_connectivity(elt2), 1)"
   ]
  },
  {
   "cell_type": "markdown",
   "metadata": {},
   "source": [
    "### How to solve a problem with boundary conditons?\n",
    "\n",
    "Create boundary elements"
   ]
  },
  {
   "cell_type": "code",
   "execution_count": 6,
   "metadata": {
    "collapsed": false
   },
   "outputs": [
    {
     "data": {
      "text/plain": [
       "JFEM.Element{1,2}([5,6],JFEM.GaussPoint[[-0.57735],[0.57735]],JFEM.ShapeFunction(JFEM.N,JFEM.∇N),Dict{String,JFEM.Field}())"
      ]
     },
     "execution_count": 6,
     "metadata": {},
     "output_type": "execute_result"
    }
   ],
   "source": [
    "left_boundary = Bar2([4,1])\n",
    "right_boundary = Bar2([5,6])"
   ]
  },
  {
   "cell_type": "markdown",
   "metadata": {},
   "source": [
    "FE mesh:"
   ]
  },
  {
   "cell_type": "code",
   "execution_count": 7,
   "metadata": {
    "collapsed": false
   },
   "outputs": [
    {
     "data": {
      "image/png": "[encoded data removed]",
      "text/plain": [
       "PyPlot.Figure(PyObject <matplotlib.figure.Figure object at 0x317f1a0d0>)"
      ]
     },
     "metadata": {},
     "output_type": "display_data"
    }
   ],
   "source": [
    "left_boundary[\"geometry\"]  = Field([[0.0,1.0], [0.0,0.0]])\n",
    "right_boundary[\"geometry\"] = Field([[2.0,0.0], [2.0,1.0]])\n",
    "\n",
    "figure(figsize=(2,1))\n",
    "plot_mesh(elements)\n",
    "plot_mesh(left_boundary, color=\"blue\")\n",
    "plot_mesh(right_boundary, color=\"red\")"
   ]
  },
  {
   "cell_type": "markdown",
   "metadata": {},
   "source": [
    "Solve problem"
   ]
  },
  {
   "cell_type": "code",
   "execution_count": 8,
   "metadata": {
    "collapsed": false
   },
   "outputs": [
    {
     "data": {
      "text/plain": [
       "6-element Array{Float64,1}:\n",
       " 4.0\n",
       " 2.0\n",
       " 2.0\n",
       " 4.0\n",
       " 0.0\n",
       " 0.0"
      ]
     },
     "execution_count": 8,
     "metadata": {},
     "output_type": "execute_result"
    }
   ],
   "source": [
    "b = zeros(num_nodes) # right hand side vector\n",
    "x = zeros(num_nodes) # left hand side vector\n",
    "\n",
    "left_boundary[\"water flow rate\"] = Field(-[0.01, 0.01]) # set neumann boundary condition\n",
    "right_boundary[\"water head\"] = Field([0.0, 0.0])        # set dirichlet boundary condition\n",
    "\n",
    "# set neumann boundary condition into right hand side vector b\n",
    "b[get_dofs(left_boundary, 1)] = left_boundary[\"water flow rate\"][end]\n",
    "\n",
    "# use Gaussian elimination method\n",
    "ddofs = get_dofs(right_boundary, 1) # dirichlet dofs\n",
    "x[ddofs] = right_boundary[\"water head\"][end]\n",
    "for i in ddofs\n",
    "    b -= x[i] * global_matrix[:,i]\n",
    "end\n",
    "\n",
    "fdofs = [1,2,3,4] # free dofs\n",
    "x[fdofs] = global_matrix[fdofs, fdofs] \\ b[fdofs]\n",
    "x"
   ]
  },
  {
   "cell_type": "markdown",
   "metadata": {},
   "source": [
    "Update element fields"
   ]
  },
  {
   "cell_type": "code",
   "execution_count": 9,
   "metadata": {
    "collapsed": true
   },
   "outputs": [],
   "source": [
    "for elt in elements\n",
    "    dofs = get_dofs(elt, 1)\n",
    "    h = x[dofs]\n",
    "    push!(elt[\"water head\"], h)\n",
    "end"
   ]
  },
  {
   "cell_type": "markdown",
   "metadata": {},
   "source": [
    "Show results"
   ]
  },
  {
   "cell_type": "code",
   "execution_count": 10,
   "metadata": {
    "collapsed": false
   },
   "outputs": [
    {
     "name": "stdout",
     "output_type": "stream",
     "text": [
      "∇h = elt(\"water head\",Val{:GRAD},mid) = [-2.0; 8.88178e-16]\n",
      "v = -k * ∇h = [0.02; -8.88178e-18]\n",
      "∇h = elt(\"water head\",Val{:GRAD},mid) = [-2.0; 1.11022e-16]\n",
      "v = -k * ∇h = [0.02; -1.11022e-18]\n"
     ]
    }
   ],
   "source": [
    "for elt in elements\n",
    "    mid = [0.0,0.0] # center of element\n",
    "    k = elt(\"water conductivity\", mid)\n",
    "    @show ∇h = elt(\"water head\", Val{:GRAD}, mid)\n",
    "    @show v = -k * ∇h\n",
    "end"
   ]
  },
  {
   "cell_type": "markdown",
   "metadata": {},
   "source": [
    "## 2. Simplify codes\n",
    "\n",
    "### Assembly, Dirichlet and Neumann\n",
    "\n",
    "`In[4]` and `In[8]` can be simplified as"
   ]
  },
  {
   "cell_type": "code",
   "execution_count": 11,
   "metadata": {
    "collapsed": false
   },
   "outputs": [
    {
     "data": {
      "text/plain": [
       "6-element Array{Float64,1}:\n",
       " 4.0\n",
       " 2.0\n",
       " 2.0\n",
       " 4.0\n",
       " 0.0\n",
       " 0.0"
      ]
     },
     "execution_count": 11,
     "metadata": {},
     "output_type": "execute_result"
    }
   ],
   "source": [
    "assembly, dirichlet, neumann = Assembly(), Dirichlet(), Neumann()\n",
    "\n",
    "# add element matrix to assembly\n",
    "for elt in elements\n",
    "    dofs = get_dofs(elt, 1)\n",
    "    add!(assembly, dofs, dofs, create_matrix(elt))\n",
    "end\n",
    "\n",
    "# set boundary conditions\n",
    "add!(neumann, get_dofs(left_boundary,1), -[0.01,0.01]) # add!(neumann, dofs, val)\n",
    "dirichlet[get_dofs(right_boundary,1)] = 0.0            # dirichlet[dofs]\n",
    "\n",
    "# solve problem\n",
    "x = solve(assembly, dirichlet, neumann)"
   ]
  },
  {
   "cell_type": "markdown",
   "metadata": {},
   "source": [
    "### Seepage equation\n",
    "\n",
    "If you use builtin equation `Seepage`, `In[3]` and `In[4]` can be simplified as"
   ]
  },
  {
   "cell_type": "code",
   "execution_count": 12,
   "metadata": {
    "collapsed": false
   },
   "outputs": [
    {
     "name": "stderr",
     "output_type": "stream",
     "text": [
      "INFO: water head: unit -> length, potential -> total\n"
     ]
    }
   ],
   "source": [
    "equation = Seepage(\"water head\") # set unknown field name\n",
    "assembly = Assembly()\n",
    "\n",
    "# assemble global matrix by using Seepage equation\n",
    "for elt in elements\n",
    "    dofs = get_dofs(elt, 1)\n",
    "    assemble!(assembly, dofs, equation, elt)\n",
    "end"
   ]
  },
  {
   "cell_type": "markdown",
   "metadata": {},
   "source": [
    "### Domain\n",
    "If you create `Domain` type with `elements` and `Equation`, `In[12]` will be"
   ]
  },
  {
   "cell_type": "code",
   "execution_count": 13,
   "metadata": {
    "collapsed": false
   },
   "outputs": [],
   "source": [
    "domain = Domain(elements, equation)\n",
    "assemble!(domain)"
   ]
  },
  {
   "cell_type": "markdown",
   "metadata": {},
   "source": [
    "The problem can be solved as"
   ]
  },
  {
   "cell_type": "code",
   "execution_count": 14,
   "metadata": {
    "collapsed": false
   },
   "outputs": [
    {
     "data": {
      "text/plain": [
       "6-element Array{Float64,1}:\n",
       " 4.0\n",
       " 2.0\n",
       " 2.0\n",
       " 4.0\n",
       " 0.0\n",
       " 0.0"
      ]
     },
     "execution_count": 14,
     "metadata": {},
     "output_type": "execute_result"
    }
   ],
   "source": [
    "x = solve(domain, dirichlet, neumann)"
   ]
  },
  {
   "cell_type": "markdown",
   "metadata": {},
   "source": [
    "The unknown field registerd in Equation can be updated instead of doing `In[9]` as"
   ]
  },
  {
   "cell_type": "code",
   "execution_count": 15,
   "metadata": {
    "collapsed": false
   },
   "outputs": [],
   "source": [
    "update_fields!(domain, x)"
   ]
  },
  {
   "cell_type": "markdown",
   "metadata": {},
   "source": [
    "### Solver\n",
    "\n",
    "If you use Solver, `In[14]` and `In[15] can be simplified as"
   ]
  },
  {
   "cell_type": "code",
   "execution_count": 16,
   "metadata": {
    "collapsed": false
   },
   "outputs": [
    {
     "data": {
      "text/plain": [
       "([4.0,2.0,2.0,4.0,0.0,0.0],\n",
       "[-0.01; 0.0; … ; 0.01; 0.01],\n",
       "\n",
       "true,[0.02])"
      ]
     },
     "execution_count": 16,
     "metadata": {},
     "output_type": "execute_result"
    }
   ],
   "source": [
    "solver = Solver()\n",
    "solver(domain, dirichlet, neumann)"
   ]
  },
  {
   "cell_type": "markdown",
   "metadata": {},
   "source": [
    "## 3. Final code\n",
    "\n",
    "Define elements and their fields"
   ]
  },
  {
   "cell_type": "code",
   "execution_count": 17,
   "metadata": {
    "collapsed": true
   },
   "outputs": [],
   "source": [
    "elt1 = Quad4([1,2,3,4])\n",
    "elt2 = Quad4([2,5,6,3])\n",
    "elt1[\"geometry\"] = Field([[0.0,0.0], [1.0,0.0], [1.0,1.0], [0.0,1.0]])\n",
    "elt2[\"geometry\"] = Field([[1.0,0.0], [2.0,0.0], [2.0,1.0], [1.0,1.0]])\n",
    "elements = [elt1, elt2]\n",
    "\n",
    "Kw = 1e-2\n",
    "for elt in elements\n",
    "    elt[\"water head\"] = Field([0.0, 0.0, 0.0, 0.0]) # set initial water head\n",
    "    elt[\"water conductivity\"] = ConstantField(fill(Kw,4))\n",
    "end"
   ]
  },
  {
   "cell_type": "markdown",
   "metadata": {},
   "source": [
    "Define boundary elements"
   ]
  },
  {
   "cell_type": "code",
   "execution_count": 18,
   "metadata": {
    "collapsed": false
   },
   "outputs": [
    {
     "data": {
      "text/plain": [
       "JFEM.Element{1,2}([5,6],JFEM.GaussPoint[[-0.57735],[0.57735]],JFEM.ShapeFunction(JFEM.N,JFEM.∇N),Dict{String,JFEM.Field}())"
      ]
     },
     "execution_count": 18,
     "metadata": {},
     "output_type": "execute_result"
    }
   ],
   "source": [
    "left_boundary = Bar2([4,1])\n",
    "right_boundary = Bar2([5,6])"
   ]
  },
  {
   "cell_type": "markdown",
   "metadata": {},
   "source": [
    "Create Domain, Equation, Solver, Dirichlet and Neumann"
   ]
  },
  {
   "cell_type": "code",
   "execution_count": 19,
   "metadata": {
    "collapsed": false
   },
   "outputs": [
    {
     "name": "stderr",
     "output_type": "stream",
     "text": [
      "INFO: water head: unit -> length, potential -> total\n"
     ]
    },
    {
     "data": {
      "text/plain": [
       "(JFEM.Solver(JFEM.#76,1,1.0e-6),JFEM.Dirichlet(Dict{Int64,Float64}()),JFEM.SparseMatrixIJV(Int64[],Int64[],Float64[]))"
      ]
     },
     "execution_count": 19,
     "metadata": {},
     "output_type": "execute_result"
    }
   ],
   "source": [
    "domain = Domain(elements, Seepage(\"water head\"))\n",
    "solver, dirichlet, neumann = Solver(), Dirichlet(), Neumann()"
   ]
  },
  {
   "cell_type": "markdown",
   "metadata": {},
   "source": [
    "Set boundary conditions"
   ]
  },
  {
   "cell_type": "code",
   "execution_count": 20,
   "metadata": {
    "collapsed": false
   },
   "outputs": [
    {
     "data": {
      "text/plain": [
       "0.0"
      ]
     },
     "execution_count": 20,
     "metadata": {},
     "output_type": "execute_result"
    }
   ],
   "source": [
    "add!(neumann, get_dofs(left_boundary,1), -[0.01,0.01])\n",
    "dirichlet[get_dofs(right_boundary,1)] = 0.0"
   ]
  },
  {
   "cell_type": "markdown",
   "metadata": {},
   "source": [
    "Solve a problem and show results"
   ]
  },
  {
   "cell_type": "code",
   "execution_count": 21,
   "metadata": {
    "collapsed": false
   },
   "outputs": [
    {
     "name": "stdout",
     "output_type": "stream",
     "text": [
      "∇h = elt(\"water head\",Val{:GRAD},mid) = [-2.0; 0.0]\n",
      "v = -k * ∇h = [0.02; -0.0]\n",
      "∇h = elt(\"water head\",Val{:GRAD},mid) = [-2.0; 1.11022e-16]\n",
      "v = -k * ∇h = [0.02; -1.11022e-18]\n"
     ]
    }
   ],
   "source": [
    "solver(domain, dirichlet, neumann)\n",
    "for elt in elements\n",
    "    mid = [0.0,0.0] # center of element\n",
    "    k = elt(\"water conductivity\", mid)\n",
    "    @show ∇h = elt(\"water head\", Val{:GRAD}, mid)\n",
    "    @show v = -k * ∇h\n",
    "end"
   ]
  }
 ],
 "metadata": {
  "kernelspec": {
   "display_name": "Julia 0.5.0",
   "language": "julia",
   "name": "julia-0.5"
  },
  "language_info": {
   "file_extension": ".jl",
   "mimetype": "application/julia",
   "name": "julia",
   "version": "0.5.0"
  }
 },
 "nbformat": 4,
 "nbformat_minor": 0
}
